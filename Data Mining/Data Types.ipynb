{
 "cells": [
  {
   "cell_type": "markdown",
   "metadata": {},
   "source": [
    "# Data Types"
   ]
  },
  {
   "cell_type": "markdown",
   "metadata": {},
   "source": [
    "_Entity_\n",
    "\n",
    "Entity type, Object\n",
    "<br>\n",
    "\n",
    "_Attribute_\n",
    "<br>\n",
    "\n",
    "_Occurrence_"
   ]
  }
 ],
 "metadata": {
  "language_info": {
   "name": "python"
  },
  "orig_nbformat": 4
 },
 "nbformat": 4,
 "nbformat_minor": 2
}
