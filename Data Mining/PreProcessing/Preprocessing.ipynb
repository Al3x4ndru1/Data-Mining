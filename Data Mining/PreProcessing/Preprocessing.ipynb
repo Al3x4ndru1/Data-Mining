{
 "cells": [
  {
   "cell_type": "markdown",
   "metadata": {},
   "source": [
    "# Data Pre-Processing & Exploration"
   ]
  },
  {
   "cell_type": "markdown",
   "metadata": {},
   "source": [
    "## Techniques for data pre-processing"
   ]
  },
  {
   "cell_type": "markdown",
   "metadata": {},
   "source": [
    "1. Detect and deal with common dat quality problems:\n",
    "   > Missing values\n",
    "   \n",
    "   > Outlines\n",
    "   \n",
    "   > Incompatible variable value ranges\n",
    "\n",
    "   > Imbalanced classes\n",
    "\n",
    "2. Modify origianl variables and/or dataset for a certain purpose:\n",
    "   > Nominalisation\n",
    "\n",
    "   > Feature selection\n",
    "\n",
    "   > Create a set of new variables\n",
    "\n",
    "   > Reduce data volume\n",
    "\n",
    "   > Dimensionality reduction"
   ]
  },
  {
   "cell_type": "markdown",
   "metadata": {},
   "source": [
    "-------------------------------"
   ]
  },
  {
   "cell_type": "markdown",
   "metadata": {},
   "source": [
    "## Why Data Pre-Processing is Important?"
   ]
  },
  {
   "cell_type": "markdown",
   "metadata": {},
   "source": [
    "Moto:\n",
    "\n",
    "    No quality data, no quality data mining results​\n",
    "\n",
    "    Garbage in, garbage out (GIGO)​"
   ]
  },
  {
   "cell_type": "markdown",
   "metadata": {},
   "source": [
    "First of all we have to asume that data has no quality (data has some missleading values/missing values/etc.)"
   ]
  },
  {
   "cell_type": "markdown",
   "metadata": {},
   "source": [
    "### Make a data set fit a required data mining task"
   ]
  },
  {
   "cell_type": "markdown",
   "metadata": {},
   "source": [
    "1. Different types of data mining algorithms and models require different data types:\n",
    "\n",
    "> **Regretion model** require numerical target atribute\n",
    "\n",
    "> **k-mean cluster analysis** require numerical atributes\n",
    "\n",
    "> **Assiosiation analysis** require nominal atributes"
   ]
  },
  {
   "cell_type": "markdown",
   "metadata": {},
   "source": [
    "2. Some attributes may not be relevat for analysis process. So we can skip them"
   ]
  },
  {
   "cell_type": "markdown",
   "metadata": {},
   "source": [
    "3. Aggregate attributes may be needed"
   ]
  },
  {
   "cell_type": "markdown",
   "metadata": {},
   "source": [
    "4. Feature selection:\n",
    "\n",
    "* Create a set of new attributes using original attributes\n",
    "\n",
    "* Determine which attribute should be used of a certain modelling"
   ]
  },
  {
   "cell_type": "markdown",
   "metadata": {},
   "source": []
  },
  {
   "cell_type": "markdown",
   "metadata": {},
   "source": []
  },
  {
   "cell_type": "markdown",
   "metadata": {},
   "source": []
  },
  {
   "cell_type": "markdown",
   "metadata": {},
   "source": []
  },
  {
   "cell_type": "markdown",
   "metadata": {},
   "source": []
  },
  {
   "cell_type": "markdown",
   "metadata": {},
   "source": []
  },
  {
   "cell_type": "markdown",
   "metadata": {},
   "source": []
  },
  {
   "cell_type": "code",
   "execution_count": null,
   "metadata": {},
   "outputs": [],
   "source": []
  }
 ],
 "metadata": {
  "language_info": {
   "name": "python"
  },
  "orig_nbformat": 4
 },
 "nbformat": 4,
 "nbformat_minor": 2
}
